{
 "cells": [
  {
   "cell_type": "code",
   "execution_count": 2,
   "metadata": {},
   "outputs": [
    {
     "name": "stdout",
     "output_type": "stream",
     "text": [
      "hello world\n"
     ]
    }
   ],
   "source": [
    "#no1\n",
    "print(\"hello world\")"
   ]
  },
  {
   "cell_type": "code",
   "execution_count": 5,
   "metadata": {},
   "outputs": [
    {
     "name": "stdout",
     "output_type": "stream",
     "text": [
      "type in your name Chidi\n",
      "Hello Chidi\n"
     ]
    }
   ],
   "source": [
    "A = input(\"type in your name \"   )\n",
    "B = \"Hello\" + \" \" + A\n",
    "print(B)"
   ]
  },
  {
   "cell_type": "code",
   "execution_count": 9,
   "metadata": {},
   "outputs": [
    {
     "data": {
      "text/plain": [
       "9"
      ]
     },
     "execution_count": 9,
     "metadata": {},
     "output_type": "execute_result"
    }
   ],
   "source": [
    "len(B)"
   ]
  },
  {
   "cell_type": "code",
   "execution_count": 2,
   "metadata": {},
   "outputs": [
    {
     "name": "stdout",
     "output_type": "stream",
     "text": [
      "elephant\n",
      "ELEPHANT\n"
     ]
    }
   ],
   "source": [
    "My_pet = \"Elephant\"\n",
    "print(My_pet.lower())\n",
    "print(My_pet.upper())\n"
   ]
  },
  {
   "cell_type": "code",
   "execution_count": 23,
   "metadata": {},
   "outputs": [
    {
     "name": "stdout",
     "output_type": "stream",
     "text": [
      "punch in your age5\n",
      "you are lucky to be here\n"
     ]
    }
   ],
   "source": [
    "Age = int(input(\"punch in your age\"))\n",
    "if Age < 12:\n",
    "    print(\"you are lucky to be here\")\n",
    "elif Age < 20:\n",
    "    print(\"Make use of this golden oppurtunity\")\n",
    "else:\n",
    "    print(\"learning is a continous process\")\n",
    "\n",
    "\n"
   ]
  },
  {
   "cell_type": "code",
   "execution_count": 1,
   "metadata": {},
   "outputs": [
    {
     "name": "stdout",
     "output_type": "stream",
     "text": [
      "How many goals did the home team score?2\n",
      "How many goals did the away team score?3\n",
      "it is a very interesting game\n"
     ]
    }
   ],
   "source": [
    "Goalhome = int(input(\"How many goals did the home team score?\"))\n",
    "Goalaway = int(input(\"How many goals did the away team score?\"))\n",
    "C = Goalhome + Goalaway\n",
    "if C < 3:\n",
    "    print(\"not the most interesting game\")\n",
    "elif C < 6:\n",
    "    print(\"it is a very interesting game\")\n",
    "else:\n",
    "    print(\"The football match was an unmissable game\")\n"
   ]
  },
  {
   "cell_type": "code",
   "execution_count": 4,
   "metadata": {},
   "outputs": [
    {
     "name": "stdout",
     "output_type": "stream",
     "text": [
      "type in a number to find it's square67\n",
      "the square of the number is 4489\n"
     ]
    }
   ],
   "source": [
    "s = int(input(\"type in a number to find it's square\"))\n",
    "if  s > 0:\n",
    "    o= s*s\n",
    "\n",
    "\n",
    "print(\"the square of the number is\", o)\n"
   ]
  },
  {
   "cell_type": "code",
   "execution_count": null,
   "metadata": {},
   "outputs": [],
   "source": [
    "\n",
    "Calculator = input('''Welcome to our calculator. \\n-Enter the first number: \\n-Enter the second number: \\n\n",
    "                   -Choose one of the following operations: \\n\n",
    "                   1 - addition \\n\n",
    "                   2 - subtraction \\n\n",
    "                   3 - multiplication \\n\n",
    "                   4 - division \\n\n",
    "                   -result: \\n\n",
    "                   -Thank you for using our calculator.''')"
   ]
  }
 ],
 "metadata": {
  "kernelspec": {
   "display_name": "Python 3",
   "language": "python",
   "name": "python3"
  },
  "language_info": {
   "codemirror_mode": {
    "name": "ipython",
    "version": 3
   },
   "file_extension": ".py",
   "mimetype": "text/x-python",
   "name": "python",
   "nbconvert_exporter": "python",
   "pygments_lexer": "ipython3",
   "version": "3.7.3"
  }
 },
 "nbformat": 4,
 "nbformat_minor": 2
}
